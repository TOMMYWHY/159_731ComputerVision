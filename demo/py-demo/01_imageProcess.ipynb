{
 "cells": [
  {
   "cell_type": "code",
   "execution_count": 1,
   "metadata": {},
   "outputs": [],
   "source": [
    "import cv2\n",
    "import numpy as np"
   ]
  },
  {
   "cell_type": "code",
   "execution_count": 2,
   "metadata": {},
   "outputs": [],
   "source": [
    "img = cv2.imread('lena.jpg',1)\n",
    "imgInfo = img.shape\n",
    "h = imgInfo[0]\n",
    "w = imgInfo[1]\n",
    "deep= imgInfo[2]"
   ]
  },
  {
   "cell_type": "code",
   "execution_count": 5,
   "metadata": {},
   "outputs": [
    {
     "data": {
      "text/plain": [
       "-1"
      ]
     },
     "execution_count": 5,
     "metadata": {},
     "output_type": "execute_result"
    }
   ],
   "source": [
    "dst = cv2.resize(img, (int(h*0.5), int(w*0.5) ))\n",
    "cv2.imshow('dst',dst)\n",
    "# cv2.waitKey(1000)"
   ]
  },
  {
   "cell_type": "markdown",
   "metadata": {},
   "source": [
    "### 缩放插值"
   ]
  },
  {
   "cell_type": "code",
   "execution_count": 4,
   "metadata": {},
   "outputs": [],
   "source": [
    "img = cv2.imread('lena.jpg',1)\n",
    "imgInfo = img.shape\n",
    "h = imgInfo[0]\n",
    "w = imgInfo[1]\n",
    "mode= imgInfo[2]\n"
   ]
  },
  {
   "cell_type": "markdown",
   "metadata": {},
   "source": [
    "#### 最近临域插值"
   ]
  },
  {
   "cell_type": "code",
   "execution_count": 10,
   "metadata": {},
   "outputs": [
    {
     "data": {
      "text/plain": [
       "-1"
      ]
     },
     "execution_count": 10,
     "metadata": {},
     "output_type": "execute_result"
    }
   ],
   "source": [
    "dst_h = int(h/2)\n",
    "dst_w = int(w/2)\n",
    "dst_img = np.zeros((dst_h,dst_w,3), np.uint8 )\n",
    "for i in range(0, dst_h):\n",
    "    for j in range(0,dst_w):\n",
    "        iNew = int( i*(h*1.0/dst_h ) )\n",
    "        jNew = int( j*(w*1.0/dst_w ) )\n",
    "        dst_img[i,j] = img[iNew,jNew]\n",
    "\n",
    "cv2.imshow('dst',dst_img)\n",
    "# cv2.waitKey(1000)        "
   ]
  },
  {
   "cell_type": "markdown",
   "metadata": {},
   "source": [
    "#### 矩阵缩放"
   ]
  },
  {
   "cell_type": "code",
   "execution_count": 5,
   "metadata": {},
   "outputs": [
    {
     "data": {
      "text/plain": [
       "-1"
      ]
     },
     "execution_count": 5,
     "metadata": {},
     "output_type": "execute_result"
    }
   ],
   "source": [
    "matScale = np.float32( [ [0.5,0,0],[0,0.5,0] ] )\n",
    "# dst = cv2.warpAffine(img,matScale, (int(w/2),int(h/2)) )\n",
    "dst = cv2.warpAffine(img,matScale, (int(w),int(h)) )\n",
    "cv2.imshow('dst',dst)\n",
    "cv2.waitKey(1000)    "
   ]
  },
  {
   "cell_type": "markdown",
   "metadata": {},
   "source": [
    "### 镜像"
   ]
  },
  {
   "cell_type": "code",
   "execution_count": 9,
   "metadata": {},
   "outputs": [
    {
     "data": {
      "text/plain": [
       "-1"
      ]
     },
     "execution_count": 9,
     "metadata": {},
     "output_type": "execute_result"
    }
   ],
   "source": [
    "newImgInfo = (h*2,w, deep)\n",
    "dst = np.zeros(newImgInfo,np.uint8) # uint8 0-255\n",
    "for i in range(0,h):\n",
    "    for j in range(0,w):\n",
    "        dst[i,j] = img[i,j]\n",
    "        dst[h*2-i-1,j] = img[i,j]\n",
    "\n",
    "for i in range(0,w):\n",
    "    dst[h, i] =( 0,0,255)\n",
    "\n",
    "cv2.imshow('dst',dst)\n",
    "cv2.waitKey(1000)        "
   ]
  },
  {
   "cell_type": "markdown",
   "metadata": {},
   "source": [
    "### 仿射变换"
   ]
  },
  {
   "cell_type": "code",
   "execution_count": 3,
   "metadata": {},
   "outputs": [
    {
     "data": {
      "text/plain": [
       "-1"
      ]
     },
     "execution_count": 3,
     "metadata": {},
     "output_type": "execute_result"
    }
   ],
   "source": [
    "matSrc = np.float32( [ [0,0],[0,h-1], [w-1,0] ] )\n",
    "matDst = np.float32( [ [50,50],[300,h-200], [w-300,100] ] )\n",
    "matAffine = cv2.getAffineTransform(matSrc,matDst) # 跟glm 一样，给出原始位，与目标位。自动算出计算矩阵\n",
    "dst = cv2.warpAffine(img,matAffine, (w,h))\n",
    "\n",
    "cv2.imshow('dst',dst)\n",
    "# cv2.waitKey(1000)        "
   ]
  },
  {
   "cell_type": "markdown",
   "metadata": {},
   "source": [
    "### 旋转"
   ]
  },
  {
   "cell_type": "code",
   "execution_count": 6,
   "metadata": {},
   "outputs": [
    {
     "data": {
      "text/plain": [
       "-1"
      ]
     },
     "execution_count": 6,
     "metadata": {},
     "output_type": "execute_result"
    }
   ],
   "source": [
    "matRotate = cv2.getRotationMatrix2D( (h*0.5,w*0.5), 45,0.5 ) #0.5 为缩放\n",
    "dst = cv2.warpAffine(img, matRotate, (h,w))\n",
    "\n",
    "cv2.imshow('dst',dst)\n",
    "# cv2.waitKey(1000)   "
   ]
  },
  {
   "cell_type": "code",
   "execution_count": null,
   "metadata": {},
   "outputs": [],
   "source": []
  }
 ],
 "metadata": {
  "kernelspec": {
   "display_name": "PyCharm (py_advance)",
   "language": "python",
   "name": "pycharm-2bfe6c72"
  },
  "language_info": {
   "codemirror_mode": {
    "name": "ipython",
    "version": 3
   },
   "file_extension": ".py",
   "mimetype": "text/x-python",
   "name": "python",
   "nbconvert_exporter": "python",
   "pygments_lexer": "ipython3",
   "version": "3.7.5"
  }
 },
 "nbformat": 4,
 "nbformat_minor": 4
}
