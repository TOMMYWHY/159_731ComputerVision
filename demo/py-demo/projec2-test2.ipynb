{
 "cells": [
  {
   "cell_type": "code",
   "execution_count": 3,
   "metadata": {},
   "outputs": [],
   "source": [
    "import cv2\n",
    "import numpy as np"
   ]
  },
  {
   "cell_type": "code",
   "execution_count": 4,
   "metadata": {},
   "outputs": [],
   "source": [
    "input_img = cv2.imread(\"./abcde.jpg\")\n",
    "\n",
    "gray = cv2.cvtColor(input_img.copy(), cv2.COLOR_BGR2GRAY)\n",
    "_, binary = cv2.threshold( gray, 0, 255, cv2.THRESH_BINARY | cv2.THRESH_OTSU)\n",
    "blur = cv2.GaussianBlur(binary, (5, 5), 0)\n",
    "edges = cv2.Canny(blur, 100, 300)\n",
    "\n"
   ]
  },
  {
   "cell_type": "code",
   "execution_count": 12,
   "metadata": {},
   "outputs": [],
   "source": [
    " contours, hierarchy = cv2.findContours(edges.copy(), cv2.RETR_TREE, cv2.CHAIN_APPROX_SIMPLE)\n",
    "hierarchy = hierarchy[0]"
   ]
  },
  {
   "cell_type": "code",
   "execution_count": null,
   "metadata": {},
   "outputs": [],
   "source": []
  },
  {
   "cell_type": "code",
   "execution_count": 14,
   "metadata": {},
   "outputs": [],
   "source": [
    "def is_duplicate(c, contours):\n",
    "    \"\"\"\n",
    "    判断当前轮廓是否与其他轮廓属于同一定位点，用于筛选同一定位点的唯一轮廓\n",
    "    :param c: 当前判断的 contour\n",
    "    :param contours: 当前所有非重叠 contours 集合\n",
    "    :return: contours 中是否存在与 c 相交的轮廓，bool，重复轮廓返回 True，不重复返回 False\n",
    "    \"\"\"\n",
    "    r = cv2.boundingRect(c)\n",
    "    for contour in contours:\n",
    "        rect = cv2.boundingRect(contour)\n",
    "        if _intersection(r, rect):\n",
    "            return True\n",
    "        else:\n",
    "            continue\n",
    "    return False"
   ]
  },
  {
   "cell_type": "code",
   "execution_count": 16,
   "metadata": {},
   "outputs": [],
   "source": [
    "def _intersection(a, b):\n",
    "    \"\"\"\n",
    "    判断两个 rect 是否相交\n",
    "    :param a: rect1\n",
    "    :param b: rect2\n",
    "    :return: 是否相交，bool， 相交为 True，不相交为 False\n",
    "    \"\"\"\n",
    "    x = max(a[0], b[0])\n",
    "    y = max(a[1], b[1])\n",
    "    w = min(a[0] + a[2], b[0] + b[2]) - x\n",
    "    h = min(a[1] + a[3], b[1] + b[3]) - y\n",
    "    if w < 0 or h < 0:\n",
    "        return False  # or (0, 0, 0, 0) ?\n",
    "    return True"
   ]
  },
  {
   "cell_type": "code",
   "execution_count": 17,
   "metadata": {},
   "outputs": [],
   "source": [
    "candidate_contours = []\n",
    "candidate_contours.append(contours[0])\n",
    "\n",
    "for i in range(1, 12):\n",
    "    if is_duplicate(contours[i], candidate_contours):\n",
    "        continue\n",
    "    else:\n",
    "        candidate_contours.append(contours[i])"
   ]
  },
  {
   "cell_type": "code",
   "execution_count": 20,
   "metadata": {},
   "outputs": [
    {
     "name": "stdout",
     "output_type": "stream",
     "text": [
      "1906\n"
     ]
    },
    {
     "ename": "NameError",
     "evalue": "name 'img_dc' is not defined",
     "output_type": "error",
     "traceback": [
      "\u001b[0;31m---------------------------------------------------------------------------\u001b[0m",
      "\u001b[0;31mNameError\u001b[0m                                 Traceback (most recent call last)",
      "\u001b[0;32m<ipython-input-20-5090d3113b0a>\u001b[0m in \u001b[0;36m<module>\u001b[0;34m\u001b[0m\n\u001b[1;32m     16\u001b[0m     \u001b[0mprint\u001b[0m\u001b[0;34m(\u001b[0m\u001b[0mlen\u001b[0m\u001b[0;34m(\u001b[0m\u001b[0mcontours\u001b[0m\u001b[0;34m)\u001b[0m\u001b[0;34m)\u001b[0m\u001b[0;34m\u001b[0m\u001b[0;34m\u001b[0m\u001b[0m\n\u001b[1;32m     17\u001b[0m     \u001b[0;32mfor\u001b[0m \u001b[0mi\u001b[0m \u001b[0;32min\u001b[0m \u001b[0mrange\u001b[0m\u001b[0;34m(\u001b[0m\u001b[0mlen\u001b[0m\u001b[0;34m(\u001b[0m\u001b[0mcontours\u001b[0m\u001b[0;34m)\u001b[0m\u001b[0;34m)\u001b[0m\u001b[0;34m:\u001b[0m\u001b[0;34m\u001b[0m\u001b[0;34m\u001b[0m\u001b[0m\n\u001b[0;32m---> 18\u001b[0;31m         \u001b[0mcv2\u001b[0m\u001b[0;34m.\u001b[0m\u001b[0mdrawContours\u001b[0m\u001b[0;34m(\u001b[0m\u001b[0mimg_dc\u001b[0m\u001b[0;34m,\u001b[0m \u001b[0mcontours\u001b[0m\u001b[0;34m,\u001b[0m \u001b[0mi\u001b[0m\u001b[0;34m,\u001b[0m\u001b[0;34m(\u001b[0m\u001b[0;36m255\u001b[0m\u001b[0;34m,\u001b[0m \u001b[0;36m255\u001b[0m\u001b[0;34m,\u001b[0m \u001b[0;36m0\u001b[0m\u001b[0;34m)\u001b[0m\u001b[0;34m,\u001b[0m \u001b[0;36m2\u001b[0m\u001b[0;34m,\u001b[0m \u001b[0mcv2\u001b[0m\u001b[0;34m.\u001b[0m\u001b[0mLINE_AA\u001b[0m\u001b[0;34m)\u001b[0m\u001b[0;34m\u001b[0m\u001b[0;34m\u001b[0m\u001b[0m\n\u001b[0m\u001b[1;32m     19\u001b[0m         \u001b[0mprint\u001b[0m\u001b[0;34m(\u001b[0m\u001b[0;34m\"未找到足够的定位点\"\u001b[0m\u001b[0;34m)\u001b[0m\u001b[0;34m\u001b[0m\u001b[0;34m\u001b[0m\u001b[0m\n",
      "\u001b[0;31mNameError\u001b[0m: name 'img_dc' is not defined"
     ]
    }
   ],
   "source": [
    "if len(candidate_contours) >= 4:\n",
    "    candidate_contours = candidate_contours[0:4]\n",
    "    for i in range(4):\n",
    "        cv2.drawContours(img_dc, candidate_contours, i,\n",
    "                         (0, 0, 255), 2, cv2.LINE_AA)\n",
    "    location_points = []\n",
    "\n",
    "    for i in range(0, 4):\n",
    "        pos_rect = cv2.minAreaRect(candidate_contours[i])\n",
    "        location_points.append(pos_rect[0])\n",
    "\n",
    "    # 对定位点排序，排序后顺序为：左上，右上，左下，右下\n",
    "    location_points = SortPoint(location_points)\n",
    "#     return location_points\n",
    "else:\n",
    "    print(len(contours))\n",
    "    for i in range(len(contours)):\n",
    "        cv2.drawContours(img_dc, contours, i,(255, 255, 0), 2, cv2.LINE_AA)\n",
    "        print(\"未找到足够的定位点\")"
   ]
  },
  {
   "cell_type": "code",
   "execution_count": null,
   "metadata": {},
   "outputs": [],
   "source": [
    "def SortPoint(points):\n",
    "    \"\"\"\n",
    "    对四个定位点进行排序，排序后顺序分别为左上、右上、左下、右下\n",
    "    :param points: 待排序的点集\n",
    "    :return: 排序完成的点集\n",
    "    \"\"\"\n",
    "    sp = sorted(points, key=lambda x: (int(x[1]), int(x[0])))\n",
    "    if sp[0][0] > sp[1][0]:\n",
    "        sp[0], sp[1] = sp[1], sp[0]\n",
    "\n",
    "    if sp[2][0] > sp[3][0]:\n",
    "        sp[2], sp[3] = sp[3], sp[2]\n",
    "\n",
    "    return sp"
   ]
  },
  {
   "cell_type": "code",
   "execution_count": 6,
   "metadata": {},
   "outputs": [
    {
     "ename": "NameError",
     "evalue": "name 'sp' is not defined",
     "output_type": "error",
     "traceback": [
      "\u001b[0;31m---------------------------------------------------------------------------\u001b[0m",
      "\u001b[0;31mNameError\u001b[0m                                 Traceback (most recent call last)",
      "\u001b[0;32m<ipython-input-6-bca154ea3256>\u001b[0m in \u001b[0;36m<module>\u001b[0;34m\u001b[0m\n\u001b[1;32m      1\u001b[0m \u001b[0;31m# 透视变换，转换为正视图\u001b[0m\u001b[0;34m\u001b[0m\u001b[0;34m\u001b[0m\u001b[0;34m\u001b[0m\u001b[0m\n\u001b[0;32m----> 2\u001b[0;31m \u001b[0mpts1\u001b[0m \u001b[0;34m=\u001b[0m \u001b[0mnp\u001b[0m\u001b[0;34m.\u001b[0m\u001b[0mfloat32\u001b[0m\u001b[0;34m(\u001b[0m\u001b[0msp\u001b[0m\u001b[0;34m)\u001b[0m\u001b[0;34m\u001b[0m\u001b[0;34m\u001b[0m\u001b[0m\n\u001b[0m\u001b[1;32m      3\u001b[0m \u001b[0mpts2\u001b[0m \u001b[0;34m=\u001b[0m \u001b[0mnp\u001b[0m\u001b[0;34m.\u001b[0m\u001b[0mfloat32\u001b[0m\u001b[0;34m(\u001b[0m\u001b[0;34m[\u001b[0m\u001b[0;34m[\u001b[0m\u001b[0;36m0\u001b[0m\u001b[0;34m,\u001b[0m \u001b[0;36m0\u001b[0m\u001b[0;34m]\u001b[0m\u001b[0;34m,\u001b[0m \u001b[0;34m[\u001b[0m\u001b[0;36m1000\u001b[0m\u001b[0;34m,\u001b[0m \u001b[0;36m0\u001b[0m\u001b[0;34m]\u001b[0m\u001b[0;34m,\u001b[0m \u001b[0;34m[\u001b[0m\u001b[0;36m0\u001b[0m\u001b[0;34m,\u001b[0m \u001b[0;36m750\u001b[0m\u001b[0;34m]\u001b[0m\u001b[0;34m,\u001b[0m \u001b[0;34m[\u001b[0m\u001b[0;36m1000\u001b[0m\u001b[0;34m,\u001b[0m \u001b[0;36m750\u001b[0m\u001b[0;34m]\u001b[0m\u001b[0;34m]\u001b[0m\u001b[0;34m)\u001b[0m\u001b[0;34m\u001b[0m\u001b[0;34m\u001b[0m\u001b[0m\n\u001b[1;32m      4\u001b[0m \u001b[0mtransform\u001b[0m \u001b[0;34m=\u001b[0m \u001b[0mcv2\u001b[0m\u001b[0;34m.\u001b[0m\u001b[0mgetPerspectiveTransform\u001b[0m\u001b[0;34m(\u001b[0m\u001b[0mpts1\u001b[0m\u001b[0;34m,\u001b[0m \u001b[0mpts2\u001b[0m\u001b[0;34m)\u001b[0m\u001b[0;34m\u001b[0m\u001b[0;34m\u001b[0m\u001b[0m\n\u001b[1;32m      5\u001b[0m \u001b[0mwarpedimg\u001b[0m \u001b[0;34m=\u001b[0m \u001b[0mcv2\u001b[0m\u001b[0;34m.\u001b[0m\u001b[0mwarpPerspective\u001b[0m\u001b[0;34m(\u001b[0m\u001b[0mimg\u001b[0m\u001b[0;34m,\u001b[0m \u001b[0mtransform\u001b[0m\u001b[0;34m,\u001b[0m \u001b[0;34m(\u001b[0m\u001b[0;36m1000\u001b[0m\u001b[0;34m,\u001b[0m \u001b[0;36m750\u001b[0m\u001b[0;34m)\u001b[0m\u001b[0;34m)\u001b[0m\u001b[0;34m\u001b[0m\u001b[0;34m\u001b[0m\u001b[0m\n",
      "\u001b[0;31mNameError\u001b[0m: name 'sp' is not defined"
     ]
    }
   ],
   "source": [
    "# 透视变换，转换为正视图\n",
    "pts1 = np.float32(sp)\n",
    "pts2 = np.float32([[0, 0], [1000, 0], [0, 750], [1000, 750]])\n",
    "transform = cv2.getPerspectiveTransform(pts1, pts2)\n",
    "warpedimg = cv2.warpPerspective(img, transform, (1000, 750))"
   ]
  },
  {
   "cell_type": "code",
   "execution_count": 7,
   "metadata": {},
   "outputs": [
    {
     "ename": "NameError",
     "evalue": "name 'warpedimg' is not defined",
     "output_type": "error",
     "traceback": [
      "\u001b[0;31m---------------------------------------------------------------------------\u001b[0m",
      "\u001b[0;31mNameError\u001b[0m                                 Traceback (most recent call last)",
      "\u001b[0;32m<ipython-input-7-4bf8e00a6a6e>\u001b[0m in \u001b[0;36m<module>\u001b[0;34m\u001b[0m\n\u001b[1;32m      1\u001b[0m \u001b[0;31m# 设定裁剪边距，完全去除定位标志\u001b[0m\u001b[0;34m\u001b[0m\u001b[0;34m\u001b[0m\u001b[0;34m\u001b[0m\u001b[0m\n\u001b[0;32m----> 2\u001b[0;31m \u001b[0mpadding\u001b[0m \u001b[0;34m=\u001b[0m \u001b[0mnp\u001b[0m\u001b[0;34m.\u001b[0m\u001b[0mint0\u001b[0m\u001b[0;34m(\u001b[0m\u001b[0mwarpedimg\u001b[0m\u001b[0;34m.\u001b[0m\u001b[0mshape\u001b[0m\u001b[0;34m[\u001b[0m\u001b[0;36m0\u001b[0m\u001b[0;34m]\u001b[0m \u001b[0;34m*\u001b[0m \u001b[0;36m0.06\u001b[0m\u001b[0;34m)\u001b[0m\u001b[0;34m\u001b[0m\u001b[0;34m\u001b[0m\u001b[0m\n\u001b[0m\u001b[1;32m      3\u001b[0m img_cropped = warpedimg[padding:(\n\u001b[1;32m      4\u001b[0m     warpedimg.shape[0] - padding), padding:(warpedimg.shape[1] - padding)]\n\u001b[1;32m      5\u001b[0m img_output = cv2.resize(img_cropped, (400, 300),\n",
      "\u001b[0;31mNameError\u001b[0m: name 'warpedimg' is not defined"
     ]
    }
   ],
   "source": [
    "# 设定裁剪边距，完全去除定位标志\n",
    "padding = np.int0(warpedimg.shape[0] * 0.06)\n",
    "img_cropped = warpedimg[padding:(\n",
    "    warpedimg.shape[0] - padding), padding:(warpedimg.shape[1] - padding)]\n",
    "img_output = cv2.resize(img_cropped, (400, 300),\n",
    "                        interpolation=cv2.INTER_CUBIC)"
   ]
  },
  {
   "cell_type": "code",
   "execution_count": null,
   "metadata": {},
   "outputs": [],
   "source": []
  },
  {
   "cell_type": "code",
   "execution_count": null,
   "metadata": {},
   "outputs": [],
   "source": []
  },
  {
   "cell_type": "code",
   "execution_count": null,
   "metadata": {},
   "outputs": [],
   "source": []
  },
  {
   "cell_type": "code",
   "execution_count": 13,
   "metadata": {},
   "outputs": [
    {
     "data": {
      "text/plain": [
       "-1"
      ]
     },
     "execution_count": 13,
     "metadata": {},
     "output_type": "execute_result"
    }
   ],
   "source": [
    "cv2.imshow('input_img',input_img)\n",
    "cv2.imshow('binary',binary)\n",
    "cv2.imshow('blur',blur)\n",
    "cv2.imshow('edges',edges)\n",
    "\n",
    "cv2.waitKey(1000)    "
   ]
  },
  {
   "cell_type": "code",
   "execution_count": null,
   "metadata": {},
   "outputs": [],
   "source": []
  },
  {
   "cell_type": "code",
   "execution_count": null,
   "metadata": {},
   "outputs": [],
   "source": []
  }
 ],
 "metadata": {
  "kernelspec": {
   "display_name": "Python 3",
   "language": "python",
   "name": "python3"
  },
  "language_info": {
   "codemirror_mode": {
    "name": "ipython",
    "version": 3
   },
   "file_extension": ".py",
   "mimetype": "text/x-python",
   "name": "python",
   "nbconvert_exporter": "python",
   "pygments_lexer": "ipython3",
   "version": "3.6.10"
  }
 },
 "nbformat": 4,
 "nbformat_minor": 4
}
