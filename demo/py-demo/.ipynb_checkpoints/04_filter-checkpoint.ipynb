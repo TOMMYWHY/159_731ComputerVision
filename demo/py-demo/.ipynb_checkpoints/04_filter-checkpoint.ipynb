{
 "cells": [
  {
   "cell_type": "markdown",
   "metadata": {},
   "source": [
    "# 滤波器"
   ]
  },
  {
   "cell_type": "code",
   "execution_count": 1,
   "metadata": {},
   "outputs": [],
   "source": [
    "import cv2\n",
    "import numpy as np\n",
    "import math\n",
    "import matplotlib.pylab as plt\n",
    "\n",
    "font = cv2.FONT_HERSHEY_SIMPLEX\n",
    "img = cv2.imread('lena.jpg',1)\n",
    "imgInfo = img.shape\n",
    "h = imgInfo[0]\n",
    "w = imgInfo[1]\n",
    "deep= imgInfo[2]"
   ]
  },
  {
   "cell_type": "code",
   "execution_count": 2,
   "metadata": {},
   "outputs": [],
   "source": [
    "def IamgeHist (image,type):\n",
    "    color=(255,255,255)\n",
    "    windowName ='Gray'\n",
    "    if type==31:\n",
    "        color=(255,0,0)\n",
    "        windowName ='B Hist'\n",
    "    elif type==32:\n",
    "        color = (0,255,0)\n",
    "        windowName ='G Hist'\n",
    "    elif type == 33:\n",
    "        color = (0,0,255)\n",
    "        windowName ='R Hist'\n",
    "    hist= cv2.calcHist([image],[0],None,[256],[0.0,255.0])\n",
    "    minV,maxV,minL,maxL = cv2.minMaxLoc(hist)\n",
    "    histImg =np.zeros([256,256,3],np.uint8)\n",
    "    for h in range(256):\n",
    "        intenNormal = int(hist[h]*256/maxV)\n",
    "        cv2.line(histImg,(h,256),(h,256-intenNormal),color)\n",
    "    cv2.imshow(windowName, histImg)\n",
    "    return histImg"
   ]
  },
  {
   "cell_type": "code",
   "execution_count": 10,
   "metadata": {},
   "outputs": [
    {
     "data": {
      "text/plain": [
       "-1"
      ]
     },
     "execution_count": 10,
     "metadata": {},
     "output_type": "execute_result"
    }
   ],
   "source": [
    "channels = cv2.split(img)\n",
    "for i in range(0,3):\n",
    "    IamgeHist(channels[i],31+i)\n",
    "\n",
    "cv2.waitKey(10000)"
   ]
  },
  {
   "cell_type": "markdown",
   "metadata": {},
   "source": [
    "### 直方图均衡化"
   ]
  },
  {
   "cell_type": "code",
   "execution_count": 2,
   "metadata": {},
   "outputs": [
    {
     "data": {
      "text/plain": [
       "-1"
      ]
     },
     "execution_count": 2,
     "metadata": {},
     "output_type": "execute_result"
    }
   ],
   "source": [
    "# gray= cv2.cvtColor(img,cv2.COLOR_BGR2GRAY)\n",
    "(b,g,r) = cv2.split(img)\n",
    "bHist = cv2.equalizeHist(b)\n",
    "gHist = cv2.equalizeHist(g)\n",
    "rHist = cv2.equalizeHist(r)\n",
    "\n",
    "result = cv2.merge((bHist, gHist,rHist))\n",
    "\n",
    "# cv2.imshow('src',gray)\n",
    "cv2.imshow('src',img)\n",
    "cv2.imshow('dst',result)\n",
    "cv2.waitKey(1000)"
   ]
  },
  {
   "cell_type": "code",
   "execution_count": 2,
   "metadata": {
    "scrolled": true
   },
   "outputs": [
    {
     "data": {
      "image/png": "[encoded data removed]",
      "text/plain": [
       "<Figure size 432x288 with 1 Axes>"
      ]
     },
     "metadata": {
      "needs_background": "light"
     },
     "output_type": "display_data"
    },
    {
     "data": {
      "text/plain": [
       "-1"
      ]
     },
     "execution_count": 2,
     "metadata": {},
     "output_type": "execute_result"
    }
   ],
   "source": [
    "gray= cv2.cvtColor(img,cv2.COLOR_BGR2GRAY)\n",
    "cv2.imshow('src',gray)\n",
    "\n",
    "count = np.zeros(256,np.float)\n",
    "for i in range(0,h):\n",
    "    for j in range(0,w):\n",
    "        pixel = gray[i,j]\n",
    "        index = int(pixel)\n",
    "        count[index]= count[index] +1 \n",
    "        \n",
    "for i in range(0,255):\n",
    "    count[i] = count[i]/(h*w)\n",
    "    \n",
    "sum1 = float(0) #累计概率\n",
    "for i in range(0,256):\n",
    "    sum1 = sum1 + count[i]\n",
    "    count[i] = sum1\n",
    "# print(count)\n",
    "    \n",
    "map1 = np.zeros(256,np.uint16)\n",
    "for i in range(0,256):\n",
    "    map1[i] = np.uint16(count[i]*255)\n",
    "    \n",
    "for i in range(0,h):\n",
    "    for j in range(0,w):\n",
    "        pixel = gray[i,j]\n",
    "        gray[i,j] = map1[pixel]\n",
    "        \n",
    "x = np.linspace(0,255,256)\n",
    "y = count\n",
    "plt.bar(x,y,0.9,color = 'b',)\n",
    "plt.show()\n",
    "\n",
    "# cv2.imshow('src',img)\n",
    "cv2.imshow('dst',gray)\n",
    "cv2.waitKey(1000)"
   ]
  },
  {
   "cell_type": "code",
   "execution_count": 6,
   "metadata": {},
   "outputs": [
    {
     "data": {
      "text/plain": [
       "-1"
      ]
     },
     "execution_count": 6,
     "metadata": {},
     "output_type": "execute_result"
    }
   ],
   "source": [
    "\n",
    "count_b = np.zeros(256,np.float)\n",
    "count_g = np.zeros(256,np.float)\n",
    "count_r = np.zeros(256,np.float)\n",
    "for i in range(0,h):\n",
    "    for j in range(0,w):\n",
    "        (b,g,r) = img[i,j]\n",
    "        index_b = int(b)\n",
    "        index_g = int(g)\n",
    "        index_r = int(r)\n",
    "\n",
    "        count_b[index_b]= count_b[index_b] +1 \n",
    "        count_g[index_g]= count_g[index_g] +1 \n",
    "        count_r[index_r]= count_r[index_r] +1 \n",
    "        \n",
    "        \n",
    "for i in range(0,255):\n",
    "    count_b[i] = count_b[i]/(h*w)\n",
    "    count_g[i] = count_g[i]/(h*w)\n",
    "    count_r[i] = count_r[i]/(h*w)\n",
    "\n",
    "    \n",
    "sum1_b = float(0) #累计概率\n",
    "sum1_g = float(0) #累计概率\n",
    "sum1_r = float(0) #累计概率\n",
    "for i in range(0,256):\n",
    "    sum1_b = sum1_b + count_b[i]\n",
    "    sum1_g = sum1_g + count_g[i]\n",
    "    sum1_r = sum1_r + count_r[i]\n",
    "\n",
    "    count_b[i] = sum1_b\n",
    "    count_g[i] = sum1_g\n",
    "    count_r[i] = sum1_r\n",
    "\n",
    "# print(count)\n",
    "    \n",
    "map1_b = np.zeros(256,np.uint16)\n",
    "map1_g = np.zeros(256,np.uint16)\n",
    "map1_r = np.zeros(256,np.uint16)\n",
    "\n",
    "for i in range(0,256):\n",
    "    map1_b[i] = np.uint16(count_b[i]*255)\n",
    "    map1_g[i] = np.uint16(count_g[i]*255)\n",
    "    map1_r[i] = np.uint16(count_r[i]*255)\n",
    "\n",
    "dst = np.zeros((h,w,3), np.uint8)\n",
    "\n",
    "for i in range(0,h):\n",
    "    for j in range(0,w):\n",
    "        (b,g,r) = img[i,j]\n",
    "        b = map1_b[b]\n",
    "        g = map1_g[g]\n",
    "        r = map1_r[r]\n",
    "        dst[i,j] = (b,g,r)\n",
    "        \n",
    "\n",
    "\n",
    "cv2.imshow('src',img)\n",
    "cv2.imshow('dst',dst)\n",
    "cv2.waitKey(1000)"
   ]
  },
  {
   "cell_type": "markdown",
   "metadata": {},
   "source": [
    "### YUV"
   ]
  },
  {
   "cell_type": "code",
   "execution_count": 3,
   "metadata": {},
   "outputs": [
    {
     "data": {
      "text/plain": [
       "-1"
      ]
     },
     "execution_count": 3,
     "metadata": {},
     "output_type": "execute_result"
    }
   ],
   "source": [
    "imgYUV = cv2.cvtColor(img,cv2.COLOR_BGR2YCrCb) # CrCb 电子信号\n",
    "channelYUV = cv2.split(imgYUV)\n",
    "channelYUV[0] = cv2.equalizeHist(channelYUV[0])\n",
    "\n",
    "channels = cv2.merge(channelYUV)\n",
    "# result = cv2.cvtColor(channels,cv2.COLOR_YUV2BGR)\n",
    "result = cv2.cvtColor(channels,cv2.COLOR_YCrCb2BGR)\n",
    "cv2.imshow('src',img)\n",
    "cv2.imshow('dst',result)\n",
    "cv2.waitKey(1000)"
   ]
  },
  {
   "cell_type": "markdown",
   "metadata": {},
   "source": [
    "### 双边滤波"
   ]
  },
  {
   "cell_type": "code",
   "execution_count": 3,
   "metadata": {},
   "outputs": [
    {
     "data": {
      "text/plain": [
       "-1"
      ]
     },
     "execution_count": 3,
     "metadata": {},
     "output_type": "execute_result"
    }
   ],
   "source": [
    "dst = cv2.bilateralFilter(img,15,35,35)\n",
    "\n",
    "cv2.imshow('src',img)\n",
    "cv2.imshow('dst',dst)\n",
    "cv2.waitKey(1000)"
   ]
  },
  {
   "cell_type": "markdown",
   "metadata": {},
   "source": [
    "### 高斯滤波"
   ]
  },
  {
   "cell_type": "code",
   "execution_count": 3,
   "metadata": {},
   "outputs": [
    {
     "data": {
      "text/plain": [
       "-1"
      ]
     },
     "execution_count": 3,
     "metadata": {},
     "output_type": "execute_result"
    }
   ],
   "source": [
    "dst = cv2.GaussianBlur(img,(5,5),1.5)\n",
    "\n",
    "\n",
    "cv2.imshow('src',img)\n",
    "cv2.imshow('dst',dst)\n",
    "cv2.waitKey(1000)"
   ]
  },
  {
   "cell_type": "markdown",
   "metadata": {},
   "source": [
    "### 均值滤波"
   ]
  },
  {
   "cell_type": "code",
   "execution_count": 4,
   "metadata": {},
   "outputs": [
    {
     "data": {
      "text/plain": [
       "-1"
      ]
     },
     "execution_count": 4,
     "metadata": {},
     "output_type": "execute_result"
    }
   ],
   "source": [
    "dst= np.zeros((h,w,3),np.uint8)\n",
    "for i in range(3,h-3):\n",
    "    for j in range(3,w-3):\n",
    "        sum_b = int(0)\n",
    "        sum_g = int(0)\n",
    "        sum_r = int(0)\n",
    "        for m in range(-3,3):\n",
    "            for n in range(-3,3):\n",
    "                (b,g,r) = img[i+m,j+n]\n",
    "                sum_b = sum_b + int(b)\n",
    "                sum_g = sum_g + int(g)\n",
    "                sum_r = sum_r + int(r)\n",
    "                \n",
    "        b = np.uint8(sum_b/36)\n",
    "        g = np.uint8(sum_g/36)\n",
    "        r = np.uint8(sum_r/36)\n",
    "        dst[i,j] = (b,g,r)\n",
    "\n",
    "cv2.imshow('src',img)\n",
    "cv2.imshow('dst',dst)\n",
    "cv2.waitKey(1000)"
   ]
  },
  {
   "cell_type": "markdown",
   "metadata": {},
   "source": [
    "### 中值滤波"
   ]
  },
  {
   "cell_type": "code",
   "execution_count": 4,
   "metadata": {},
   "outputs": [
    {
     "ename": "ValueError",
     "evalue": "setting an array element with a sequence.",
     "output_type": "error",
     "traceback": [
      "\u001b[0;31m---------------------------------------------------------------------------\u001b[0m",
      "\u001b[0;31mValueError\u001b[0m                                Traceback (most recent call last)",
      "\u001b[0;32m<ipython-input-4-18beb351cf2a>\u001b[0m in \u001b[0;36m<module>\u001b[0;34m\u001b[0m\n\u001b[1;32m      8\u001b[0m             \u001b[0;32mfor\u001b[0m \u001b[0mn\u001b[0m \u001b[0;32min\u001b[0m \u001b[0mrange\u001b[0m\u001b[0;34m(\u001b[0m\u001b[0;34m-\u001b[0m\u001b[0;36m1\u001b[0m\u001b[0;34m,\u001b[0m\u001b[0;36m2\u001b[0m\u001b[0;34m)\u001b[0m\u001b[0;34m:\u001b[0m\u001b[0;34m\u001b[0m\u001b[0;34m\u001b[0m\u001b[0m\n\u001b[1;32m      9\u001b[0m                 \u001b[0mgray\u001b[0m \u001b[0;34m=\u001b[0m \u001b[0mimg\u001b[0m\u001b[0;34m[\u001b[0m\u001b[0mi\u001b[0m\u001b[0;34m+\u001b[0m\u001b[0mm\u001b[0m\u001b[0;34m,\u001b[0m\u001b[0mj\u001b[0m\u001b[0;34m+\u001b[0m\u001b[0mn\u001b[0m\u001b[0;34m]\u001b[0m\u001b[0;34m\u001b[0m\u001b[0;34m\u001b[0m\u001b[0m\n\u001b[0;32m---> 10\u001b[0;31m                 \u001b[0mcollect\u001b[0m\u001b[0;34m[\u001b[0m\u001b[0mk\u001b[0m\u001b[0;34m]\u001b[0m \u001b[0;34m=\u001b[0m \u001b[0mgray\u001b[0m\u001b[0;34m\u001b[0m\u001b[0;34m\u001b[0m\u001b[0m\n\u001b[0m\u001b[1;32m     11\u001b[0m                 \u001b[0mk\u001b[0m \u001b[0;34m=\u001b[0m\u001b[0mk\u001b[0m\u001b[0;34m+\u001b[0m\u001b[0;36m1\u001b[0m\u001b[0;34m\u001b[0m\u001b[0;34m\u001b[0m\u001b[0m\n\u001b[1;32m     12\u001b[0m \u001b[0;34m\u001b[0m\u001b[0m\n",
      "\u001b[0;31mValueError\u001b[0m: setting an array element with a sequence."
     ]
    }
   ],
   "source": [
    "gray= cv2.cvtColor(img,cv2.COLOR_BGR2GRAY)\n",
    "dst= np.zeros((h,w,3),np.uint8)\n",
    "collect = np.zeros(9,np.uint8)\n",
    "\n",
    "for i in range(1,h-1):\n",
    "    for j in range(1,w-1):\n",
    "        k = 0\n",
    "        for m in range(-1,2):\n",
    "            for n in range(-1,2):\n",
    "                gray = img[i+m,j+n]\n",
    "                collect[k] = gray\n",
    "                k =k+1\n",
    "                \n",
    "        for k in range(0,9):\n",
    "            p1 = collect[k]\n",
    "            for t in range(k+1,9):\n",
    "                if p1< collect[k]:\n",
    "                    (p1,collect[t]) = (collect[t],p1)\n",
    "                    \n",
    "        dst[i,j] = collect[4] # middle value\n",
    "cv2.imshow('src',img)\n",
    "cv2.imshow('dst',dst)\n",
    "cv2.waitKey(1000)"
   ]
  },
  {
   "cell_type": "code",
   "execution_count": null,
   "metadata": {},
   "outputs": [],
   "source": []
  }
 ],
 "metadata": {
  "kernelspec": {
   "display_name": "PyCharm (py_advance)",
   "language": "python",
   "name": "pycharm-2bfe6c72"
  },
  "language_info": {
   "codemirror_mode": {
    "name": "ipython",
    "version": 3
   },
   "file_extension": ".py",
   "mimetype": "text/x-python",
   "name": "python",
   "nbconvert_exporter": "python",
   "pygments_lexer": "ipython3",
   "version": "3.7.5"
  }
 },
 "nbformat": 4,
 "nbformat_minor": 4
}
