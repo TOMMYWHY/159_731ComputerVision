{
 "cells": [
  {
   "cell_type": "code",
   "execution_count": 1,
   "metadata": {},
   "outputs": [],
   "source": [
    "import cv2\n",
    "import numpy as np"
   ]
  },
  {
   "cell_type": "code",
   "execution_count": 4,
   "metadata": {},
   "outputs": [
    {
     "name": "stdout",
     "output_type": "stream",
     "text": [
      "[[[120 255 255]]]\n",
      "[[[ 60 255 255]]]\n",
      "[[[  0 255 255]]]\n"
     ]
    }
   ],
   "source": [
    "red = np.uint8([[[255,0,0]]])\n",
    "hsv_red=cv2.cvtColor(red,cv2.COLOR_BGR2HSV)\n",
    "print(hsv_red)\n",
    "\n",
    "\n",
    "green=np.uint8([[[0,255,0]]])\n",
    "hsv_green=cv2.cvtColor(green,cv2.COLOR_BGR2HSV)\n",
    "print(hsv_green)\n",
    "\n",
    "blue = np.uint8([[[0,0,255]]])\n",
    "hsv_blue=cv2.cvtColor(blue,cv2.COLOR_BGR2HSV)\n",
    "print(hsv_blue)\n",
    "\n"
   ]
  },
  {
   "cell_type": "code",
   "execution_count": 7,
   "metadata": {},
   "outputs": [],
   "source": [
    "input_img = cv2.imread(\"./abcde.jpg\")\n",
    "\n",
    "hsv=cv2.cvtColor(input_img,cv2.COLOR_BGR2HSV)\n",
    "\n"
   ]
  },
  {
   "cell_type": "code",
   "execution_count": 8,
   "metadata": {},
   "outputs": [],
   "source": [
    "lower_blue=np.array([60,100,100])\n",
    "upper_blue=np.array([180,255,255])"
   ]
  },
  {
   "cell_type": "code",
   "execution_count": 9,
   "metadata": {},
   "outputs": [],
   "source": [
    "mask=cv2.inRange(hsv,lower_blue,upper_blue)\n"
   ]
  },
  {
   "cell_type": "code",
   "execution_count": null,
   "metadata": {},
   "outputs": [],
   "source": []
  }
 ],
 "metadata": {
  "kernelspec": {
   "display_name": "Python 3",
   "language": "python",
   "name": "python3"
  },
  "language_info": {
   "codemirror_mode": {
    "name": "ipython",
    "version": 3
   },
   "file_extension": ".py",
   "mimetype": "text/x-python",
   "name": "python",
   "nbconvert_exporter": "python",
   "pygments_lexer": "ipython3",
   "version": "3.6.10"
  }
 },
 "nbformat": 4,
 "nbformat_minor": 4
}
