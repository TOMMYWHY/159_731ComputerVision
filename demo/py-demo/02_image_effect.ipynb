{
 "cells": [
  {
   "cell_type": "markdown",
   "metadata": {},
   "source": [
    "# image effect"
   ]
  },
  {
   "cell_type": "code",
   "execution_count": 1,
   "metadata": {},
   "outputs": [],
   "source": [
    "import cv2\n",
    "import numpy as np\n",
    "import math\n",
    "\n",
    "img = cv2.imread('lena.jpg',1)\n",
    "imgInfo = img.shape\n",
    "h = imgInfo[0]\n",
    "w = imgInfo[1]\n",
    "deep= imgInfo[2]"
   ]
  },
  {
   "cell_type": "markdown",
   "metadata": {},
   "source": [
    "### gray"
   ]
  },
  {
   "cell_type": "code",
   "execution_count": 2,
   "metadata": {},
   "outputs": [],
   "source": [
    "dst = cv2.cvtColor(img,cv2.COLOR_BGR2GRAY)\n",
    "\n",
    "dst = cv2.resize(img, (int(h*0.5), int(w*0.5) ))\n",
    "cv2.imshow('dst',dst)\n",
    "# cv2.waitKey(1000)"
   ]
  },
  {
   "cell_type": "markdown",
   "metadata": {},
   "source": [
    "### 反转"
   ]
  },
  {
   "cell_type": "code",
   "execution_count": 5,
   "metadata": {},
   "outputs": [
    {
     "data": {
      "text/plain": [
       "-1"
      ]
     },
     "execution_count": 5,
     "metadata": {},
     "output_type": "execute_result"
    }
   ],
   "source": [
    "gray = cv2.cvtColor(img,cv2.COLOR_BGR2GRAY)\n",
    "dst = np.zeros((h,w,1), np.uint8)\n",
    "for  i in range(0,h):\n",
    "    for j in range(0,w):\n",
    "        grayPixel = gray[i,j]\n",
    "        dst[i,j] = 255-grayPixel\n",
    "        \n",
    "cv2.imshow('dst',dst)\n",
    "# cv2.waitKey(1000)        "
   ]
  },
  {
   "cell_type": "code",
   "execution_count": 5,
   "metadata": {},
   "outputs": [
    {
     "data": {
      "text/plain": [
       "97"
      ]
     },
     "execution_count": 5,
     "metadata": {},
     "output_type": "execute_result"
    }
   ],
   "source": [
    "# gray = cv2.cvtColor(img,cv2.COLOR_BGR2GRAY)\n",
    "dst = np.zeros((h,w,3), np.uint8)\n",
    "for  i in range(0,h):\n",
    "    for j in range(0,w):\n",
    "        (b,g,r) = img[i,j]\n",
    "        dst[i,j] = (255-b,255-g,255-r)\n",
    "        \n",
    "cv2.imshow('dst',dst)\n",
    "# cv2.waitKey(1000)"
   ]
  },
  {
   "cell_type": "markdown",
   "metadata": {},
   "source": [
    "### Edge Detection"
   ]
  },
  {
   "cell_type": "code",
   "execution_count": 5,
   "metadata": {},
   "outputs": [
    {
     "data": {
      "text/plain": [
       "-1"
      ]
     },
     "execution_count": 5,
     "metadata": {},
     "output_type": "execute_result"
    }
   ],
   "source": [
    "gray = cv2.cvtColor(img,cv2.COLOR_BGR2GRAY)\n",
    "imgGauss = cv2.GaussianBlur(gray, (3,3), 0 )\n",
    "dst = cv2.Canny(img, 50,50) # 阈值\n",
    "        \n",
    "cv2.imshow('dst',dst)\n",
    "# cv2.waitKey(1000)"
   ]
  },
  {
   "cell_type": "code",
   "execution_count": 9,
   "metadata": {},
   "outputs": [
    {
     "data": {
      "text/plain": [
       "-1"
      ]
     },
     "execution_count": 9,
     "metadata": {},
     "output_type": "execute_result"
    }
   ],
   "source": [
    "gray = cv2.cvtColor(img,cv2.COLOR_BGR2GRAY)\n",
    "dst = np.zeros((h,w,1),np.uint8)\n",
    "for i in range(0,h-2):\n",
    "    for j in range(0,w-2):\n",
    "        gy = gray[i,j]*1 + gray[i,j+1]*2 +gray[i,j+2] *1  -gray[i+2,j]*1 - gray[i+2,j+1]*2 -gray[i+2,j+2]*1\n",
    "        gx = gray[i,j]*1 + gray[i+1,j]*2 +gray[i+2,j] *1 -gray[i,j+2]*1 - gray[i+1,j+2]*2 -gray[i+2,j+2]*1\n",
    "        grad = math.sqrt(gx*gx + gy* gy)\n",
    "        if grad > 50:\n",
    "            dst[i,j] = 255\n",
    "        else:\n",
    "            dst[i,j] = 0\n",
    "\n",
    "cv2.imshow('dst',dst)\n",
    "# cv2.waitKey(1000)"
   ]
  },
  {
   "cell_type": "markdown",
   "metadata": {},
   "source": [
    "### color"
   ]
  },
  {
   "cell_type": "code",
   "execution_count": null,
   "metadata": {},
   "outputs": [],
   "source": [
    "gray = cv2.cvtColor(img,cv2.COLOR_BGR2GRAY)\n",
    "dst = np.zeros((h,w,3),np.uint8)\n",
    "for i in range(4, h-4):\n",
    "    for j in range(4, w-4):\n",
    "        arr1 = np.zeros(8,np.uint8)\n",
    "        for m in range(-4,4):\n",
    "            for n in range(-4,4):\n",
    "                p1 = int(gray[i+m,j+n]/32)\n",
    "                arr1[p1]= arr1[p1]+1\n",
    "        currentMax = arr1[0]\n",
    "        l = 0\n",
    "        for k in range(0,8):\n",
    "            if currentMax < arr1[k]:\n",
    "                currentMax  =arr1[k]\n",
    "                l = k\n",
    "        \n",
    "        for m in range(-4,4):\n",
    "            for n in range(-4,4):\n",
    "                if gray[i+m, j+n]> (l*23) and gray[i+m,j+n]<=((l+1)*32):\n",
    "                    (b,g,r)= img[i+m,j+n]\n",
    "        dst[i,j] = (b,g,r)\n",
    "        \n",
    "cv2.imshow('dst',dst)\n",
    "cv2.waitKey(1000)"
   ]
  },
  {
   "cell_type": "code",
   "execution_count": null,
   "metadata": {},
   "outputs": [],
   "source": []
  }
 ],
 "metadata": {
  "kernelspec": {
   "display_name": "PyCharm (py_advance)",
   "language": "python",
   "name": "pycharm-2bfe6c72"
  },
  "language_info": {
   "codemirror_mode": {
    "name": "ipython",
    "version": 3
   },
   "file_extension": ".py",
   "mimetype": "text/x-python",
   "name": "python",
   "nbconvert_exporter": "python",
   "pygments_lexer": "ipython3",
   "version": "3.7.5"
  }
 },
 "nbformat": 4,
 "nbformat_minor": 4
}
