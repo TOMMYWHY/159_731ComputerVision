{
 "cells": [
  {
   "cell_type": "code",
   "execution_count": 1,
   "metadata": {},
   "outputs": [],
   "source": [
    "import cv2\n",
    "import numpy as np\n",
    "import math\n",
    "\n",
    "font = cv2.FONT_HERSHEY_SIMPLEX\n",
    "img = cv2.imread('lena.jpg',1)\n",
    "imgInfo = img.shape\n",
    "h = imgInfo[0]\n",
    "w = imgInfo[1]\n",
    "deep= imgInfo[2]"
   ]
  },
  {
   "cell_type": "markdown",
   "metadata": {},
   "source": [
    "### draw"
   ]
  },
  {
   "cell_type": "code",
   "execution_count": 5,
   "metadata": {},
   "outputs": [],
   "source": [
    "newImageInfo=(500,500,3)\n",
    "dst = np.zeros(newImageInfo, np.uint8)\n",
    "#line\n",
    "cv2.line(dst,(100,100),(400,400),(0,0,255))\n",
    "cv2.line(dst,(100,200),(400,200),(0,255,255), 20)\n",
    "cv2.line(dst,(100,300),(400,300),(0,255,0), 20,cv2.LINE_AA)\n",
    "\n",
    "\n",
    "\n",
    "# cv2.imshow('dst',dst)\n",
    "# cv2.waitKey(1000)"
   ]
  },
  {
   "cell_type": "code",
   "execution_count": 6,
   "metadata": {},
   "outputs": [],
   "source": [
    "newImageInfo=(500,500,3)\n",
    "dst = np.zeros(newImageInfo, np.uint8)\n",
    "cv2.rectangle(dst, (50,100), (200,300), (255,0,0), -1 ) #-1 线条宽度， -1 为填充\n",
    "\n",
    "cv2.circle(dst, (250,250), (50), (0,255,0), 2 ) \n",
    "\n",
    "cv2.ellipse(dst, (270,270), (150,100), 0,0,180 ,(0,0,255), -1 ) \n",
    "\n",
    "\n",
    "# cv2.imshow('dst',dst)\n",
    "# cv2.waitKey(1000)"
   ]
  },
  {
   "cell_type": "markdown",
   "metadata": {},
   "source": [
    "### word"
   ]
  },
  {
   "cell_type": "code",
   "execution_count": 2,
   "metadata": {},
   "outputs": [
    {
     "data": {
      "text/plain": [
       "-1"
      ]
     },
     "execution_count": 2,
     "metadata": {},
     "output_type": "execute_result"
    }
   ],
   "source": [
    "cv2.rectangle(img, (200,100),(500,400),(0,255,0),3)\n",
    "cv2.putText(img,'lena',(100,300),font,1,(200,100,255),2,cv2.LINE_4)\n",
    "\n",
    "cv2.imshow('img',img)\n",
    "cv2.waitKey(1000)"
   ]
  },
  {
   "cell_type": "code",
   "execution_count": null,
   "metadata": {},
   "outputs": [],
   "source": []
  }
 ],
 "metadata": {
  "kernelspec": {
   "display_name": "PyCharm (py_advance)",
   "language": "python",
   "name": "pycharm-2bfe6c72"
  },
  "language_info": {
   "codemirror_mode": {
    "name": "ipython",
    "version": 3
   },
   "file_extension": ".py",
   "mimetype": "text/x-python",
   "name": "python",
   "nbconvert_exporter": "python",
   "pygments_lexer": "ipython3",
   "version": "3.7.5"
  }
 },
 "nbformat": 4,
 "nbformat_minor": 4
}
